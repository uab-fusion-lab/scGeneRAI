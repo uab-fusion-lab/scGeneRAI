{
 "cells": [
  {
   "cell_type": "code",
   "execution_count": 1,
   "id": "31000a42",
   "metadata": {},
   "outputs": [],
   "source": [
    "import pandas as pd\n",
    "import numpy as np\n",
    "import scGeneRAI\n",
    "import os\n",
    "import networkx as nx"
   ]
  },
  {
   "cell_type": "code",
   "execution_count": 4,
   "id": "e7c57f4b",
   "metadata": {},
   "outputs": [],
   "source": [
    "# ex_data = pd.read_csv('../scGeneRAI/data/example_data.csv').iloc[:,3:]\n",
    "# ex_data_descriptors = pd.read_csv('../scGeneRAI/data/example_data.csv').iloc[:,1:3]"
   ]
  },
  {
   "cell_type": "code",
   "execution_count": 34,
   "outputs": [],
   "source": [
    "raw = pd.read_csv('../scGeneRAI/data/raw_data.csv')\n",
    "filtered_raw = raw[raw['Cell.Type'].str.count(',') == 0]\n",
    "ex_data = filtered_raw.iloc[:,13:]\n",
    "ex_data_descriptors = filtered_raw.iloc[:,[2,12]]"
   ],
   "metadata": {
    "collapsed": false
   }
  },
  {
   "cell_type": "code",
   "execution_count": 35,
   "outputs": [],
   "source": [
    "means = ex_data.mean(axis=0)\n",
    "sds = ex_data.std(axis=0)\n",
    "\n",
    "ex_data = (ex_data-means)/sds"
   ],
   "metadata": {
    "collapsed": false
   }
  },
  {
   "cell_type": "code",
   "execution_count": 36,
   "outputs": [
    {
     "data": {
      "text/plain": "       AT1G01070  AT1G01120  AT1G01370  AT1G01390  AT1G01480  AT1G01610  \\\n0      -0.054235  -0.038881   -0.09208  -0.029137  -0.244746  -0.020996   \n2      -0.054235  -0.038881   -0.09208  -0.029137  -0.244746  -0.020996   \n3      -0.054235  -0.038881   -0.09208  -0.029137  -0.244746  -0.020996   \n5      -0.054235  -0.038881   -0.09208  -0.029137  -0.244746  -0.020996   \n6      -0.054235  -0.038881   -0.09208  -0.029137  -0.244746  -0.020996   \n...          ...        ...        ...        ...        ...        ...   \n16662  12.251312  -0.038881   -0.09208  -0.029137  -0.244746  -0.020996   \n16663  -0.054235  -0.038881   -0.09208  -0.029137   1.199100  -0.020996   \n16664  -0.054235  -0.038881   -0.09208  -0.029137  -0.244746  -0.020996   \n16667  -0.054235  -0.038881   -0.09208  -0.029137  -0.244746  -0.020996   \n16668  -0.054235  -0.038881   -0.09208  -0.029137  -0.244746  -0.020996   \n\n       AT1G01620  AT1G01680  AT1G02310  AT1G02360  ...  AT5G66040  AT5G66052  \\\n0      -0.415231  -0.201809  -0.145814  -0.131929  ...  -0.347265  -0.014091   \n2       0.379894  -0.201809  -0.145814  -0.131929  ...  -0.177035  -0.571049   \n3       0.174082  -0.201809  -0.145814  -0.131929  ...   1.242440   0.233290   \n5       0.077218  -0.201809  -0.145814  -0.131929  ...  -0.252379   0.661192   \n6       0.058703  -0.201809  -0.145814  -0.131929  ...  -0.347265   0.291433   \n...          ...        ...        ...        ...  ...        ...        ...   \n16662  -0.415231  -0.201809  -0.145814  -0.131929  ...   1.466200   5.851829   \n16663  -0.415231   0.637920  -0.145814  -0.131929  ...  -0.347265   0.068118   \n16664  -0.415231  -0.201809  -0.145814  -0.131929  ...  -0.347265  -0.571049   \n16667  -0.415231  -0.201809  -0.145814  -0.131929  ...  -0.347265  -0.571049   \n16668  -0.415231  -0.201809  -0.145814  -0.131929  ...   0.575494  -0.571049   \n\n       AT5G66400  AT5G66440  AT5G66580  AT5G67080  AT5G67180  AT5G67270  \\\n0      -0.098676  -0.096011  -0.106749  -0.385694  -0.145216   -0.03177   \n2      -0.098676  -0.096011  -0.106749  -0.385694  -0.145216   -0.03177   \n3      -0.098676  -0.096011  -0.106749  -0.015719  -0.145216   -0.03177   \n5      -0.098676  -0.096011  -0.106749  -0.385694  -0.145216   -0.03177   \n6      -0.098676  -0.096011  -0.106749  -0.385694  -0.145216   -0.03177   \n...          ...        ...        ...        ...        ...        ...   \n16662  -0.098676  -0.096011  -0.106749  -0.385694  -0.145216   -0.03177   \n16663  -0.098676  -0.096011  -0.106749   0.055306  -0.145216   -0.03177   \n16664  -0.098676  -0.096011  -0.106749  -0.385694  -0.145216   -0.03177   \n16667  -0.098676  -0.096011  -0.106749  -0.385694  -0.145216   -0.03177   \n16668  -0.098676  -0.096011  -0.106749   1.117597  -0.145216   -0.03177   \n\n       AT5G67480  AT5G67600  \n0      -0.462078  -0.297512  \n2      -0.020737  -0.297512  \n3      -0.020489   0.443478  \n5      -0.277575  -0.297512  \n6      -0.462078  -0.297512  \n...          ...        ...  \n16662   0.713327   3.252699  \n16663  -0.286624   0.055784  \n16664  -0.462078  -0.297512  \n16667  -0.462078   3.521110  \n16668   0.136012  -0.297512  \n\n[11749 rows x 2000 columns]",
      "text/html": "<div>\n<style scoped>\n    .dataframe tbody tr th:only-of-type {\n        vertical-align: middle;\n    }\n\n    .dataframe tbody tr th {\n        vertical-align: top;\n    }\n\n    .dataframe thead th {\n        text-align: right;\n    }\n</style>\n<table border=\"1\" class=\"dataframe\">\n  <thead>\n    <tr style=\"text-align: right;\">\n      <th></th>\n      <th>AT1G01070</th>\n      <th>AT1G01120</th>\n      <th>AT1G01370</th>\n      <th>AT1G01390</th>\n      <th>AT1G01480</th>\n      <th>AT1G01610</th>\n      <th>AT1G01620</th>\n      <th>AT1G01680</th>\n      <th>AT1G02310</th>\n      <th>AT1G02360</th>\n      <th>...</th>\n      <th>AT5G66040</th>\n      <th>AT5G66052</th>\n      <th>AT5G66400</th>\n      <th>AT5G66440</th>\n      <th>AT5G66580</th>\n      <th>AT5G67080</th>\n      <th>AT5G67180</th>\n      <th>AT5G67270</th>\n      <th>AT5G67480</th>\n      <th>AT5G67600</th>\n    </tr>\n  </thead>\n  <tbody>\n    <tr>\n      <th>0</th>\n      <td>-0.054235</td>\n      <td>-0.038881</td>\n      <td>-0.09208</td>\n      <td>-0.029137</td>\n      <td>-0.244746</td>\n      <td>-0.020996</td>\n      <td>-0.415231</td>\n      <td>-0.201809</td>\n      <td>-0.145814</td>\n      <td>-0.131929</td>\n      <td>...</td>\n      <td>-0.347265</td>\n      <td>-0.014091</td>\n      <td>-0.098676</td>\n      <td>-0.096011</td>\n      <td>-0.106749</td>\n      <td>-0.385694</td>\n      <td>-0.145216</td>\n      <td>-0.03177</td>\n      <td>-0.462078</td>\n      <td>-0.297512</td>\n    </tr>\n    <tr>\n      <th>2</th>\n      <td>-0.054235</td>\n      <td>-0.038881</td>\n      <td>-0.09208</td>\n      <td>-0.029137</td>\n      <td>-0.244746</td>\n      <td>-0.020996</td>\n      <td>0.379894</td>\n      <td>-0.201809</td>\n      <td>-0.145814</td>\n      <td>-0.131929</td>\n      <td>...</td>\n      <td>-0.177035</td>\n      <td>-0.571049</td>\n      <td>-0.098676</td>\n      <td>-0.096011</td>\n      <td>-0.106749</td>\n      <td>-0.385694</td>\n      <td>-0.145216</td>\n      <td>-0.03177</td>\n      <td>-0.020737</td>\n      <td>-0.297512</td>\n    </tr>\n    <tr>\n      <th>3</th>\n      <td>-0.054235</td>\n      <td>-0.038881</td>\n      <td>-0.09208</td>\n      <td>-0.029137</td>\n      <td>-0.244746</td>\n      <td>-0.020996</td>\n      <td>0.174082</td>\n      <td>-0.201809</td>\n      <td>-0.145814</td>\n      <td>-0.131929</td>\n      <td>...</td>\n      <td>1.242440</td>\n      <td>0.233290</td>\n      <td>-0.098676</td>\n      <td>-0.096011</td>\n      <td>-0.106749</td>\n      <td>-0.015719</td>\n      <td>-0.145216</td>\n      <td>-0.03177</td>\n      <td>-0.020489</td>\n      <td>0.443478</td>\n    </tr>\n    <tr>\n      <th>5</th>\n      <td>-0.054235</td>\n      <td>-0.038881</td>\n      <td>-0.09208</td>\n      <td>-0.029137</td>\n      <td>-0.244746</td>\n      <td>-0.020996</td>\n      <td>0.077218</td>\n      <td>-0.201809</td>\n      <td>-0.145814</td>\n      <td>-0.131929</td>\n      <td>...</td>\n      <td>-0.252379</td>\n      <td>0.661192</td>\n      <td>-0.098676</td>\n      <td>-0.096011</td>\n      <td>-0.106749</td>\n      <td>-0.385694</td>\n      <td>-0.145216</td>\n      <td>-0.03177</td>\n      <td>-0.277575</td>\n      <td>-0.297512</td>\n    </tr>\n    <tr>\n      <th>6</th>\n      <td>-0.054235</td>\n      <td>-0.038881</td>\n      <td>-0.09208</td>\n      <td>-0.029137</td>\n      <td>-0.244746</td>\n      <td>-0.020996</td>\n      <td>0.058703</td>\n      <td>-0.201809</td>\n      <td>-0.145814</td>\n      <td>-0.131929</td>\n      <td>...</td>\n      <td>-0.347265</td>\n      <td>0.291433</td>\n      <td>-0.098676</td>\n      <td>-0.096011</td>\n      <td>-0.106749</td>\n      <td>-0.385694</td>\n      <td>-0.145216</td>\n      <td>-0.03177</td>\n      <td>-0.462078</td>\n      <td>-0.297512</td>\n    </tr>\n    <tr>\n      <th>...</th>\n      <td>...</td>\n      <td>...</td>\n      <td>...</td>\n      <td>...</td>\n      <td>...</td>\n      <td>...</td>\n      <td>...</td>\n      <td>...</td>\n      <td>...</td>\n      <td>...</td>\n      <td>...</td>\n      <td>...</td>\n      <td>...</td>\n      <td>...</td>\n      <td>...</td>\n      <td>...</td>\n      <td>...</td>\n      <td>...</td>\n      <td>...</td>\n      <td>...</td>\n      <td>...</td>\n    </tr>\n    <tr>\n      <th>16662</th>\n      <td>12.251312</td>\n      <td>-0.038881</td>\n      <td>-0.09208</td>\n      <td>-0.029137</td>\n      <td>-0.244746</td>\n      <td>-0.020996</td>\n      <td>-0.415231</td>\n      <td>-0.201809</td>\n      <td>-0.145814</td>\n      <td>-0.131929</td>\n      <td>...</td>\n      <td>1.466200</td>\n      <td>5.851829</td>\n      <td>-0.098676</td>\n      <td>-0.096011</td>\n      <td>-0.106749</td>\n      <td>-0.385694</td>\n      <td>-0.145216</td>\n      <td>-0.03177</td>\n      <td>0.713327</td>\n      <td>3.252699</td>\n    </tr>\n    <tr>\n      <th>16663</th>\n      <td>-0.054235</td>\n      <td>-0.038881</td>\n      <td>-0.09208</td>\n      <td>-0.029137</td>\n      <td>1.199100</td>\n      <td>-0.020996</td>\n      <td>-0.415231</td>\n      <td>0.637920</td>\n      <td>-0.145814</td>\n      <td>-0.131929</td>\n      <td>...</td>\n      <td>-0.347265</td>\n      <td>0.068118</td>\n      <td>-0.098676</td>\n      <td>-0.096011</td>\n      <td>-0.106749</td>\n      <td>0.055306</td>\n      <td>-0.145216</td>\n      <td>-0.03177</td>\n      <td>-0.286624</td>\n      <td>0.055784</td>\n    </tr>\n    <tr>\n      <th>16664</th>\n      <td>-0.054235</td>\n      <td>-0.038881</td>\n      <td>-0.09208</td>\n      <td>-0.029137</td>\n      <td>-0.244746</td>\n      <td>-0.020996</td>\n      <td>-0.415231</td>\n      <td>-0.201809</td>\n      <td>-0.145814</td>\n      <td>-0.131929</td>\n      <td>...</td>\n      <td>-0.347265</td>\n      <td>-0.571049</td>\n      <td>-0.098676</td>\n      <td>-0.096011</td>\n      <td>-0.106749</td>\n      <td>-0.385694</td>\n      <td>-0.145216</td>\n      <td>-0.03177</td>\n      <td>-0.462078</td>\n      <td>-0.297512</td>\n    </tr>\n    <tr>\n      <th>16667</th>\n      <td>-0.054235</td>\n      <td>-0.038881</td>\n      <td>-0.09208</td>\n      <td>-0.029137</td>\n      <td>-0.244746</td>\n      <td>-0.020996</td>\n      <td>-0.415231</td>\n      <td>-0.201809</td>\n      <td>-0.145814</td>\n      <td>-0.131929</td>\n      <td>...</td>\n      <td>-0.347265</td>\n      <td>-0.571049</td>\n      <td>-0.098676</td>\n      <td>-0.096011</td>\n      <td>-0.106749</td>\n      <td>-0.385694</td>\n      <td>-0.145216</td>\n      <td>-0.03177</td>\n      <td>-0.462078</td>\n      <td>3.521110</td>\n    </tr>\n    <tr>\n      <th>16668</th>\n      <td>-0.054235</td>\n      <td>-0.038881</td>\n      <td>-0.09208</td>\n      <td>-0.029137</td>\n      <td>-0.244746</td>\n      <td>-0.020996</td>\n      <td>-0.415231</td>\n      <td>-0.201809</td>\n      <td>-0.145814</td>\n      <td>-0.131929</td>\n      <td>...</td>\n      <td>0.575494</td>\n      <td>-0.571049</td>\n      <td>-0.098676</td>\n      <td>-0.096011</td>\n      <td>-0.106749</td>\n      <td>1.117597</td>\n      <td>-0.145216</td>\n      <td>-0.03177</td>\n      <td>0.136012</td>\n      <td>-0.297512</td>\n    </tr>\n  </tbody>\n</table>\n<p>11749 rows × 2000 columns</p>\n</div>"
     },
     "execution_count": 36,
     "metadata": {},
     "output_type": "execute_result"
    }
   ],
   "source": [
    "ex_data"
   ],
   "metadata": {
    "collapsed": false
   }
  },
  {
   "cell_type": "code",
   "execution_count": 37,
   "outputs": [
    {
     "data": {
      "text/plain": "      orig.ident  Cell.Type\n0        Control  Mesophyll\n2        Control  Mesophyll\n3        Control     Phloem\n5        Control  Mesophyll\n6        Control  Mesophyll\n...          ...        ...\n16662     DC3000      Xylem\n16663     DC3000    Unknown\n16664     DC3000  Epidermis\n16667     DC3000  Epidermis\n16668     DC3000  Columella\n\n[11749 rows x 2 columns]",
      "text/html": "<div>\n<style scoped>\n    .dataframe tbody tr th:only-of-type {\n        vertical-align: middle;\n    }\n\n    .dataframe tbody tr th {\n        vertical-align: top;\n    }\n\n    .dataframe thead th {\n        text-align: right;\n    }\n</style>\n<table border=\"1\" class=\"dataframe\">\n  <thead>\n    <tr style=\"text-align: right;\">\n      <th></th>\n      <th>orig.ident</th>\n      <th>Cell.Type</th>\n    </tr>\n  </thead>\n  <tbody>\n    <tr>\n      <th>0</th>\n      <td>Control</td>\n      <td>Mesophyll</td>\n    </tr>\n    <tr>\n      <th>2</th>\n      <td>Control</td>\n      <td>Mesophyll</td>\n    </tr>\n    <tr>\n      <th>3</th>\n      <td>Control</td>\n      <td>Phloem</td>\n    </tr>\n    <tr>\n      <th>5</th>\n      <td>Control</td>\n      <td>Mesophyll</td>\n    </tr>\n    <tr>\n      <th>6</th>\n      <td>Control</td>\n      <td>Mesophyll</td>\n    </tr>\n    <tr>\n      <th>...</th>\n      <td>...</td>\n      <td>...</td>\n    </tr>\n    <tr>\n      <th>16662</th>\n      <td>DC3000</td>\n      <td>Xylem</td>\n    </tr>\n    <tr>\n      <th>16663</th>\n      <td>DC3000</td>\n      <td>Unknown</td>\n    </tr>\n    <tr>\n      <th>16664</th>\n      <td>DC3000</td>\n      <td>Epidermis</td>\n    </tr>\n    <tr>\n      <th>16667</th>\n      <td>DC3000</td>\n      <td>Epidermis</td>\n    </tr>\n    <tr>\n      <th>16668</th>\n      <td>DC3000</td>\n      <td>Columella</td>\n    </tr>\n  </tbody>\n</table>\n<p>11749 rows × 2 columns</p>\n</div>"
     },
     "execution_count": 37,
     "metadata": {},
     "output_type": "execute_result"
    }
   ],
   "source": [
    "ex_data_descriptors"
   ],
   "metadata": {
    "collapsed": false
   }
  },
  {
   "cell_type": "code",
   "execution_count": 38,
   "id": "e9ac6827",
   "metadata": {},
   "outputs": [],
   "source": [
    "model = scGeneRAI.scGeneRAI()"
   ]
  },
  {
   "cell_type": "code",
   "execution_count": null,
   "id": "0e291798",
   "metadata": {
    "pycharm": {
     "is_executing": true
    }
   },
   "outputs": [
    {
     "name": "stderr",
     "output_type": "stream",
     "text": [
      "  3%|▎         | 3/100 [08:32<4:36:02, 170.75s/it]"
     ]
    }
   ],
   "source": [
    "model.fit(ex_data, nepochs = 100, model_depth =2, descriptors = ex_data_descriptors, early_stopping=True, device_name = 'cpu')\n"
   ]
  },
  {
   "cell_type": "code",
   "execution_count": 26,
   "id": "ea26159a",
   "metadata": {},
   "outputs": [],
   "source": [
    "model.predict_networks(ex_data.iloc[:50,:], descriptors = ex_data_descriptors.iloc[:50,:], PATH = '.')"
   ]
  },
  {
   "cell_type": "code",
   "execution_count": 27,
   "id": "e121e14e",
   "metadata": {},
   "outputs": [
    {
     "data": {
      "text/plain": [
       "(18114, 2)"
      ]
     },
     "execution_count": 27,
     "metadata": {},
     "output_type": "execute_result"
    }
   ],
   "source": [
    "ex_data_descriptors.shape"
   ]
  },
  {
   "cell_type": "code",
   "execution_count": 28,
   "id": "33925ccd",
   "metadata": {},
   "outputs": [],
   "source": [
    "files = os.listdir('./results')"
   ]
  },
  {
   "cell_type": "code",
   "execution_count": 29,
   "id": "01cf5be0",
   "metadata": {},
   "outputs": [],
   "source": [
    "network_data = pd.concat([pd.read_csv('./results/' + file) for file in files])"
   ]
  },
  {
   "cell_type": "code",
   "execution_count": 34,
   "id": "3c790e71",
   "metadata": {},
   "outputs": [],
   "source": [
    "network_data['LRP'] = np.abs(network_data['LRP'])\n",
    "network_data = network_data[network_data['source_gene'] != network_data['target_gene']]\n",
    "\n",
    "average_network = network_data[['LRP', 'source_gene', 'target_gene']].groupby(['source_gene', 'target_gene']).mean().reset_index()"
   ]
  },
  {
   "cell_type": "code",
   "execution_count": 35,
   "id": "6d9fc8ae",
   "metadata": {},
   "outputs": [
    {
     "data": {
      "text/html": [
       "<div>\n",
       "<style scoped>\n",
       "    .dataframe tbody tr th:only-of-type {\n",
       "        vertical-align: middle;\n",
       "    }\n",
       "\n",
       "    .dataframe tbody tr th {\n",
       "        vertical-align: top;\n",
       "    }\n",
       "\n",
       "    .dataframe thead th {\n",
       "        text-align: right;\n",
       "    }\n",
       "</style>\n",
       "<table border=\"1\" class=\"dataframe\">\n",
       "  <thead>\n",
       "    <tr style=\"text-align: right;\">\n",
       "      <th></th>\n",
       "      <th>source_gene</th>\n",
       "      <th>target_gene</th>\n",
       "      <th>LRP</th>\n",
       "    </tr>\n",
       "  </thead>\n",
       "  <tbody>\n",
       "    <tr>\n",
       "      <th>65</th>\n",
       "      <td>RPS27</td>\n",
       "      <td>RPL10</td>\n",
       "      <td>0.158611</td>\n",
       "    </tr>\n",
       "    <tr>\n",
       "      <th>37</th>\n",
       "      <td>JUN</td>\n",
       "      <td>FOS</td>\n",
       "      <td>0.121053</td>\n",
       "    </tr>\n",
       "    <tr>\n",
       "      <th>2</th>\n",
       "      <td>FOSB</td>\n",
       "      <td>FOS</td>\n",
       "      <td>0.119806</td>\n",
       "    </tr>\n",
       "    <tr>\n",
       "      <th>45</th>\n",
       "      <td>RPL10</td>\n",
       "      <td>EEF1A1</td>\n",
       "      <td>0.110893</td>\n",
       "    </tr>\n",
       "    <tr>\n",
       "      <th>38</th>\n",
       "      <td>JUN</td>\n",
       "      <td>FOSB</td>\n",
       "      <td>0.109121</td>\n",
       "    </tr>\n",
       "    <tr>\n",
       "      <th>55</th>\n",
       "      <td>RPS27</td>\n",
       "      <td>EEF1A1</td>\n",
       "      <td>0.060431</td>\n",
       "    </tr>\n",
       "    <tr>\n",
       "      <th>9</th>\n",
       "      <td>HSPA5</td>\n",
       "      <td>HSP90B1</td>\n",
       "      <td>0.050556</td>\n",
       "    </tr>\n",
       "    <tr>\n",
       "      <th>49</th>\n",
       "      <td>RPL10</td>\n",
       "      <td>HSPA5</td>\n",
       "      <td>0.035375</td>\n",
       "    </tr>\n",
       "    <tr>\n",
       "      <th>57</th>\n",
       "      <td>RPS27</td>\n",
       "      <td>FOSB</td>\n",
       "      <td>0.033500</td>\n",
       "    </tr>\n",
       "    <tr>\n",
       "      <th>47</th>\n",
       "      <td>RPL10</td>\n",
       "      <td>FOSB</td>\n",
       "      <td>0.031428</td>\n",
       "    </tr>\n",
       "    <tr>\n",
       "      <th>41</th>\n",
       "      <td>JUN</td>\n",
       "      <td>ID1</td>\n",
       "      <td>0.030777</td>\n",
       "    </tr>\n",
       "    <tr>\n",
       "      <th>42</th>\n",
       "      <td>JUN</td>\n",
       "      <td>ID2</td>\n",
       "      <td>0.030318</td>\n",
       "    </tr>\n",
       "    <tr>\n",
       "      <th>20</th>\n",
       "      <td>ID2</td>\n",
       "      <td>ID1</td>\n",
       "      <td>0.029066</td>\n",
       "    </tr>\n",
       "    <tr>\n",
       "      <th>43</th>\n",
       "      <td>JUN</td>\n",
       "      <td>ID3</td>\n",
       "      <td>0.028678</td>\n",
       "    </tr>\n",
       "    <tr>\n",
       "      <th>6</th>\n",
       "      <td>HSPA5</td>\n",
       "      <td>EEF1A1</td>\n",
       "      <td>0.027761</td>\n",
       "    </tr>\n",
       "    <tr>\n",
       "      <th>26</th>\n",
       "      <td>ID3</td>\n",
       "      <td>ID1</td>\n",
       "      <td>0.027578</td>\n",
       "    </tr>\n",
       "    <tr>\n",
       "      <th>46</th>\n",
       "      <td>RPL10</td>\n",
       "      <td>FOS</td>\n",
       "      <td>0.027051</td>\n",
       "    </tr>\n",
       "    <tr>\n",
       "      <th>40</th>\n",
       "      <td>JUN</td>\n",
       "      <td>HSPA5</td>\n",
       "      <td>0.026301</td>\n",
       "    </tr>\n",
       "    <tr>\n",
       "      <th>64</th>\n",
       "      <td>RPS27</td>\n",
       "      <td>JUN</td>\n",
       "      <td>0.024504</td>\n",
       "    </tr>\n",
       "    <tr>\n",
       "      <th>54</th>\n",
       "      <td>RPL10</td>\n",
       "      <td>JUN</td>\n",
       "      <td>0.024053</td>\n",
       "    </tr>\n",
       "  </tbody>\n",
       "</table>\n",
       "</div>"
      ],
      "text/plain": [
       "   source_gene target_gene       LRP\n",
       "65       RPS27       RPL10  0.158611\n",
       "37         JUN         FOS  0.121053\n",
       "2         FOSB         FOS  0.119806\n",
       "45       RPL10      EEF1A1  0.110893\n",
       "38         JUN        FOSB  0.109121\n",
       "55       RPS27      EEF1A1  0.060431\n",
       "9        HSPA5     HSP90B1  0.050556\n",
       "49       RPL10       HSPA5  0.035375\n",
       "57       RPS27        FOSB  0.033500\n",
       "47       RPL10        FOSB  0.031428\n",
       "41         JUN         ID1  0.030777\n",
       "42         JUN         ID2  0.030318\n",
       "20         ID2         ID1  0.029066\n",
       "43         JUN         ID3  0.028678\n",
       "6        HSPA5      EEF1A1  0.027761\n",
       "26         ID3         ID1  0.027578\n",
       "46       RPL10         FOS  0.027051\n",
       "40         JUN       HSPA5  0.026301\n",
       "64       RPS27         JUN  0.024504\n",
       "54       RPL10         JUN  0.024053"
      ]
     },
     "execution_count": 35,
     "metadata": {},
     "output_type": "execute_result"
    }
   ],
   "source": [
    "edges = average_network.sort_values(by='LRP', ascending=False).iloc[:20,:]\n",
    "edges"
   ]
  },
  {
   "cell_type": "code",
   "execution_count": 36,
   "id": "8d905dea",
   "metadata": {},
   "outputs": [],
   "source": [
    "network = nx.from_pandas_edgelist(edges, source='source_gene', target='target_gene', edge_attr='LRP')"
   ]
  },
  {
   "cell_type": "code",
   "execution_count": 37,
   "id": "efab183d",
   "metadata": {},
   "outputs": [
    {
     "data": {
      "image/png": "[encoded data removed]",
      "text/plain": [
       "<Figure size 432x288 with 1 Axes>"
      ]
     },
     "metadata": {},
     "output_type": "display_data"
    }
   ],
   "source": [
    "nx.draw(network, with_labels=True, node_color='white', width = edges['LRP']*10)"
   ]
  },
  {
   "cell_type": "code",
   "execution_count": null,
   "id": "7d098a8f",
   "metadata": {},
   "outputs": [],
   "source": []
  },
  {
   "cell_type": "code",
   "execution_count": null,
   "id": "9793cd24",
   "metadata": {},
   "outputs": [],
   "source": []
  },
  {
   "cell_type": "code",
   "execution_count": null,
   "id": "fe69cb09",
   "metadata": {},
   "outputs": [],
   "source": []
  },
  {
   "cell_type": "code",
   "execution_count": null,
   "id": "739835e4",
   "metadata": {},
   "outputs": [],
   "source": []
  },
  {
   "cell_type": "code",
   "execution_count": null,
   "id": "72ed85b9",
   "metadata": {},
   "outputs": [],
   "source": []
  }
 ],
 "metadata": {
  "kernelspec": {
   "display_name": "Python 3",
   "language": "python",
   "name": "python3"
  },
  "language_info": {
   "codemirror_mode": {
    "name": "ipython",
    "version": 3
   },
   "file_extension": ".py",
   "mimetype": "text/x-python",
   "name": "python",
   "nbconvert_exporter": "python",
   "pygments_lexer": "ipython3",
   "version": "3.9.7"
  }
 },
 "nbformat": 4,
 "nbformat_minor": 5
}
